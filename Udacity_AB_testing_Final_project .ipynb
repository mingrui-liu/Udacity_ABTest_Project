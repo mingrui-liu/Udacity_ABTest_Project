{
 "cells": [
  {
   "cell_type": "markdown",
   "metadata": {},
   "source": [
    "# Experiment Description"
   ]
  },
  {
   "cell_type": "markdown",
   "metadata": {},
   "source": [
    "At the time of this experiment, Udacity courses currently have two options on the course overview page: \"start free trial\", and \"access course materials\". If the student clicks \"start free trial\", they will be asked to enter their credit card information, and then they will be enrolled in a free trial for the paid version of the course. After 14 days, they will automatically be charged unless they cancel first. If the student clicks \"access course materials\", they will be able to view the videos and take the quizzes for free, but they will not receive coaching support or a verified certificate, and they will not submit their final project for feedback.\n",
    "\n",
    "In the experiment, Udacity tested a change where if the student clicked \"start free trial\", they were asked how much time they had available to devote to the course. If the student indicated 5 or more hours per week, they would be taken through the checkout process as usual. If they indicated fewer than 5 hours per week, a message would appear indicating that Udacity courses usually require a greater time commitment for successful completion, and suggesting that the student might like to access the course materials for free. At this point, the student would have the option to continue enrolling in the free trial, or access the course materials for free instead. This screenshot shows what the experiment looks like.\n",
    "\n",
    "The primary aim of Udacity is to improve the overall student experience and improve coaches' capacity to support students who are likely to complete the course.\n",
    "\n",
    "**Null Hypothesis** : The null hypothesis is that this approach might not make a significant change and might not be effective in reducing the early Udacity course cancellation.\n",
    "\n",
    "**Alternative Hypothesis** : The alternative hypothesis is that this might reduce the number of frustrated students who left the free trial because they didn't have enough time, without significantly reducing the number of students to continue past the free trial and eventually complete the course.\n",
    "\n"
   ]
  },
  {
   "cell_type": "markdown",
   "metadata": {},
   "source": [
    "# Experimental Design"
   ]
  },
  {
   "cell_type": "markdown",
   "metadata": {},
   "source": [
    "The unit of diversion is a **cookie**, although if the student enrolls in the free trial, they are tracked by user-id from that point forward. The same user-id cannot enroll in the free trial twice. For users that do not enroll, their user-id is not tracked in the experiment, even if they were signed in when they visited the course overview page.\n",
    "\n",
    "## Merics Choice\n",
    "\n",
    "- **Number of cookies**: That is, number of unique cookies to view the course overview page. (𝑑𝑚𝑖𝑛=3000)\n",
    "- **Number of user-ids**: That is, number of users who enroll in the free trial. (𝑑𝑚𝑖𝑛=50)\n",
    "- **Number of clicks**: That is, number of unique cookies to click the \"Start free trial\" button (which happens before the free trial screener is trigger). (𝑑𝑚𝑖𝑛=240)\n",
    "- **Click-through-probability**: That is, number of unique cookies to click the \"Start free trial\" button divided by number of unique cookies to view the course overview page. (𝑑𝑚𝑖𝑛=0.01)\n",
    "- **Gross conversion**: That is, number of user-ids to complete checkout and enroll in the free trial divided by number of unique cookies to click the \"Start free trial\" button. (𝑑𝑚𝑖𝑛=0.01)\n",
    "- **Retention**: That is, number of user-ids to remain enrolled past the 14-day boundary (and thus make at least one payment) divided by number of user-ids to complete checkout. (𝑑𝑚𝑖𝑛=0.01)\n",
    "- **Net conversion**: That is, number of user-ids to remain enrolled past the 14-day boundary (and thus make at least one payment) divided by the number of unique cookies to click the \"Start free trial\" button. (𝑑𝑚𝑖𝑛=0.0075)\n",
    "\n",
    "#### Invariant Metrics\n",
    "Invariant metrics are thoses which remain invariant throughout the experiment. One could expect a similar distribution of such metrics both on control and experiment side. \n",
    "\n",
    "- number of cookies, number of clicks, click-through-probability.\n",
    "\n",
    "#### Evaluation Metrics\n",
    "Evaluation metrics are chosen since there is a possibility of different distribution between experiment and control groups as a function of experiment. Each evaluation metric is associated with a minimum difference (dmin) that must be observed for consideration in the decision to launch the experiment. The ultimate goal is to minimize student frustation and use the limited coaching resources most efficiently.\n",
    "\n",
    "- gross conversion, retention, net conversion.\n",
    "\n",
    "\n"
   ]
  },
  {
   "cell_type": "markdown",
   "metadata": {},
   "source": [
    "## Measuring Standard Deviation\n",
    "For each of the metrics the standard deviation is calculated for a sample size of **5000** unique cookies visiting the course overview page. The standard deviation are calculated using the Baseline Values."
   ]
  },
  {
   "cell_type": "code",
   "execution_count": 1,
   "metadata": {},
   "outputs": [],
   "source": [
    "import math\n",
    "n_pageviews=40000\n",
    "n_clicks=3200\n",
    "n_enroll=660\n",
    "ctp=0.08\n",
    "n_sample=5000\n",
    "\n",
    "click_through_probability=0.08 #clicks / pageviews\n",
    "gross_conversion=0.20625 # enroll / click\n",
    "retention=0.53 # payment / enroll\n",
    "net_conversion=0.1093125 # payment / click"
   ]
  },
  {
   "cell_type": "code",
   "execution_count": 2,
   "metadata": {},
   "outputs": [
    {
     "name": "stdout",
     "output_type": "stream",
     "text": [
      "SD of GC:  0.0202\n",
      "SD of Retention:  0.0549\n",
      "SD of NC:  0.0156\n"
     ]
    }
   ],
   "source": [
    "\"\"\"analytic standard deviation estimate\"\"\"\n",
    "# gross_conversion\n",
    "## n need to be the clicks according to 5000 sample page view, so n = (n_clicks/n_pageviews) * 5000\n",
    "std_gross_conversion=math.sqrt(gross_conversion*(1-gross_conversion)/(n_clicks/n_pageviews*n_sample))\n",
    "# retention\n",
    "std_retention=math.sqrt(retention*(1-retention)/(n_enroll/n_pageviews*n_sample))\n",
    "# net_conversion\n",
    "std_net_conversion=math.sqrt(net_conversion*(1-net_conversion)/(n_clicks/n_pageviews*n_sample))\n",
    "print(\"SD of GC: \",round(std_gross_conversion,4))\n",
    "print(\"SD of Retention: \",round(std_retention,4))\n",
    "print(\"SD of NC: \",round(std_net_conversion,4))"
   ]
  },
  {
   "cell_type": "markdown",
   "metadata": {},
   "source": [
    "## Sizing\n",
    "\n",
    " - Will you use Bonferroni Correction? > Evaluation metrics are closely related to each other, so that Bonferroni would be too conservative.\n",
    "\n",
    " - Which evaluation metrics did you choose? > gross conversion, retention, net conversion\n",
    "\n",
    " - How many pageviews will you need?\n",
    " \n",
    " ### Number of samples\n",
    " Page views required for each evaluation metric is calculated separately using the online calculator(https://www.evanmiller.org/ab-testing/sample-size.html). The alpha vaue of 0.05 and beta value of 0.2 is used in all the cases.\n",
    " #### Gross Conversion\n",
    "- Baseline Conversion: 20.625%\n",
    "- Minimum Detectable Effect: 1%\n",
    "- Alpha: 5%\n",
    "- Beta: 20% -Sensitivity (1 - Beta): 80%\n",
    "- Sample Size = 25,835 clicks /group\n",
    "- Number of groups = 2 (experiment and control)\n",
    "- Total sample size = 51,670 clicks\n",
    "- Clicks/Pageview: 3200/40000 = 0.08 \n",
    "- Pageviews Required = 51,670 / 0.08 = 645,875\n",
    "\n",
    " #### Retention\n",
    "- Baseline Conversion: 53%\n",
    "- Minimum Detectable Effect: 1%\n",
    "- Alpha: 5%\n",
    "- Beta: 20%\n",
    "- Sensitivity (1 - Beta): 80%\n",
    "- Sample size = 39,155 enrollments/group\n",
    "- Number of groups = 2 (experiment and control)\n",
    "- Total sample size = 78,230 enrollments\n",
    "- Enrollments/pageview: 660/40000 = 0.0165 \n",
    "- Pageviews = 78,230/0.0165 = 4,741,212\n",
    "\n",
    " #### Net Conversion\n",
    "- Baseline Conversion: 10.9313%\n",
    "- Minimum Detectable Effect: 0.75%\n",
    "- Alpha: 5% \n",
    "- Beta: 20%\n",
    "- Sensitivity (1 - Beta): 80%\n",
    "- Sample size = 27,413 clicks /group\n",
    "- Number of groups = 2 (experiment and control)\n",
    "- Total sample size = 54,826 clicks\n",
    "- clicks /pageview: 3200/40000 = 0.08 \n",
    "- Pageviews = 54826/0.08 = 685,325\n",
    "\n",
    "Pageviews required is maximum of pageviews required for Gross Conversion, Retention, Net Conversion. Therefore, the required pageviews is 47,41,212.\n",
    "\n",
    "\n",
    "### Duration and Exposure\n",
    "If we divert 100% of traffic, given 40,000 page views per day, the experiment would take ~ 119 days. If we eliminate retention, we are left with Gross Conversion and Net Conversion. This reduces the number of required pageviews to 685,325, and an ~ 18 day experiment with 100% diversion and ~ 35 days given 50% diversion.\n",
    "\n",
    "A 119 day experiment with 100% diversion of traffic presents both a business risk (potential for: frustrated students, lower conversion and retention, and inefficient use of coaching resources) and an opportunity risk (performing other experiments). However, in general, this is not a risky experiment as the change would not be expected to cause a precipitous drop in enrollment. In terms of timing, an 18 day experiment is more reasonable, but % diversion may be scaled down depending on other experiments of interest to be performed concurrently."
   ]
  },
  {
   "cell_type": "markdown",
   "metadata": {},
   "source": [
    "# Experiment Analysis\n",
    "## Sanity check\n",
    "For each invariant metric, compute a 95% confidence interval for the value you expect to observe.\n",
    "\n",
    "For invariant metrics we expect equal diversion into the experiment and control group."
   ]
  },
  {
   "cell_type": "code",
   "execution_count": 4,
   "metadata": {},
   "outputs": [],
   "source": [
    "dates=['Sat, Oct 11', 'Sun, Oct 12', 'Mon, Oct 13', 'Tue, Oct 14',\n",
    "       'Wed, Oct 15', 'Thu, Oct 16', 'Fri, Oct 17', 'Sat, Oct 18',\n",
    "       'Sun, Oct 19', 'Mon, Oct 20', 'Tue, Oct 21', 'Wed, Oct 22',\n",
    "       'Thu, Oct 23', 'Fri, Oct 24', 'Sat, Oct 25', 'Sun, Oct 26',\n",
    "       'Mon, Oct 27', 'Tue, Oct 28', 'Wed, Oct 29', 'Thu, Oct 30',\n",
    "       'Fri, Oct 31', 'Sat, Nov 1', 'Sun, Nov 2', 'Mon, Nov 3',\n",
    "       'Tue, Nov 4', 'Wed, Nov 5', 'Thu, Nov 6', 'Fri, Nov 7',\n",
    "       'Sat, Nov 8', 'Sun, Nov 9', 'Mon, Nov 10', 'Tue, Nov 11',\n",
    "       'Wed, Nov 12', 'Thu, Nov 13', 'Fri, Nov 14', 'Sat, Nov 15',\n",
    "       'Sun, Nov 16']\n",
    "pageviews_cont=[ 7723,  9102, 10511,  9871, 10014,  9670,  9008,  7434,  8459,\n",
    "       10667, 10660,  9947,  8324,  9434,  8687,  8896,  9535,  9363,\n",
    "        9327,  9345,  8890,  8460,  8836,  9437,  9420,  9570,  9921,\n",
    "        9424,  9010,  9656, 10419,  9880, 10134,  9717,  9192,  8630,\n",
    "        8970]\n",
    "pageviews_exp=[ 7716,  9288, 10480,  9867,  9793,  9500,  9088,  7664,  8434,\n",
    "       10496, 10551,  9737,  8176,  9402,  8669,  8881,  9655,  9396,\n",
    "        9262,  9308,  8715,  8448,  8836,  9359,  9427,  9633,  9842,\n",
    "        9272,  8969,  9697, 10445,  9931, 10042,  9721,  9304,  8668,\n",
    "        8988]\n",
    "clicks_cont=[687, 779, 909, 836, 837, 823, 748, 632, 691, 861, 867, 838, 665,\n",
    "       673, 691, 708, 759, 736, 739, 734, 706, 681, 693, 788, 781, 805,\n",
    "       830, 781, 756, 825, 874, 830, 801, 814, 735, 743, 722]\n",
    "clicks_exp=[686, 785, 884, 827, 832, 788, 780, 652, 697, 860, 864, 801, 642,\n",
    "       697, 669, 693, 771, 736, 727, 728, 722, 695, 724, 789, 743, 808,\n",
    "       831, 767, 760, 850, 851, 831, 802, 829, 770, 724, 710]\n",
    "enrolls_cont=[134, 147, 167, 156, 163, 138, 146, 110, 131, 165, 196, 162, 127,\n",
    "       220, 176, 161, 233, 154, 196, 167, 174, 156, 206]\n",
    "enrolls_exp=[105, 116, 145, 138, 140, 129, 127,  94, 120, 153, 143, 128, 122,\n",
    "       194, 127, 153, 213, 162, 201, 207, 182, 142, 182]\n",
    "payment_cont=[ 70,  70,  95, 105,  64,  82,  76,  70,  60,  97, 105,  92,  56,\n",
    "       122, 128, 104, 124,  91,  86,  75, 101,  93,  67]\n",
    "payment_exp=[ 34,  91,  79,  92,  94,  61,  44,  62,  77,  98,  71,  70,  68,\n",
    "        94,  81, 101, 119, 120,  96,  67, 123, 100, 103]\n",
    "ctp_cont=[i/j for i,j in zip(clicks_cont,pageviews_cont)]\n",
    "ctp_exp=[i/j for i,j in zip(clicks_exp,pageviews_exp)]"
   ]
  },
  {
   "cell_type": "code",
   "execution_count": 5,
   "metadata": {},
   "outputs": [
    {
     "name": "stdout",
     "output_type": "stream",
     "text": [
      "Confidence Interval for pageviews: [0.4988,0.5012]\n",
      "Observed:  0.5006\n"
     ]
    }
   ],
   "source": [
    "\"\"\"pageviews\"\"\"\n",
    "sum_pv_cont=sum(pageviews_cont)\n",
    "sum_pv_exp=sum(pageviews_exp)\n",
    "SD_pageviews=math.sqrt(0.5*0.5/(sum_pv_cont+sum_pv_exp))\n",
    "m=1.96*SD_pageviews\n",
    "ci_min,ci_max=0.5-m,0.5+m\n",
    "print(\"Confidence Interval for pageviews: [{},{}]\".format(round(ci_min,4),round(ci_max,4)))\n",
    "print(\"Observed: \",round(sum_pv_cont/(sum_pv_exp+sum_pv_cont),4))"
   ]
  },
  {
   "cell_type": "code",
   "execution_count": 6,
   "metadata": {},
   "outputs": [
    {
     "name": "stdout",
     "output_type": "stream",
     "text": [
      "Confidence Interval for clicks: [0.4959,0.5041]\n",
      "Observed:  0.5005\n"
     ]
    }
   ],
   "source": [
    "\"\"\"clicks\"\"\"\n",
    "sum_click_cont=sum(clicks_cont)\n",
    "sum_click_exp=sum(clicks_exp)\n",
    "SD_clicks=math.sqrt(0.5*0.5/(sum_click_cont+sum_click_exp))\n",
    "m=1.96*SD_clicks\n",
    "ci_min,ci_max=0.5-m,0.5+m\n",
    "print(\"Confidence Interval for clicks: [{},{}]\".format(round(ci_min,4),round(ci_max,4)))\n",
    "print(\"Observed: \",round(sum_click_cont/(sum_click_exp+sum_click_cont),4))\n"
   ]
  },
  {
   "cell_type": "code",
   "execution_count": 8,
   "metadata": {},
   "outputs": [
    {
     "name": "stdout",
     "output_type": "stream",
     "text": [
      "Confidence Interval for ctp: [-0.0013,0.0013]\n",
      "Observed:  0.0001\n"
     ]
    }
   ],
   "source": [
    "\"\"\"click_through_probability\"\"\"\n",
    "ctp_cont=sum_click_cont/sum_pv_cont\n",
    "ctp_exp=sum_click_exp/sum_pv_exp\n",
    "d_hat=ctp_exp-ctp_cont\n",
    "ctp_pool=(sum_click_cont+sum_click_exp)/(sum_pv_cont+sum_pv_exp)\n",
    "SE_ctp=math.sqrt(ctp_pool*(1-ctp_pool)*(1/sum_pv_cont+1/sum_pv_exp))\n",
    "m=1.96*SE_ctp\n",
    "ci_min,ci_max=-m,m\n",
    "print(\"Confidence Interval for ctp: [{},{}]\".format(round(ci_min,4),round(ci_max,4)))\n",
    "print(\"Observed: \",round(d_hat,4))"
   ]
  },
  {
   "cell_type": "markdown",
   "metadata": {},
   "source": [
    "## Result Analysis\n",
    "### Effect Size Test\n",
    "For each of your evaluation metrics, give a 95% confidence interval around the difference between the experiment and control groups. \n",
    "\n",
    "A metric is **statistically significant** if the confidence interval does not include 0 (that is, you can be confident there was a change), and it is **practically significant** if the confidence interval does not inside the (-d_min,d_min) and does not include d_min, the practical significance boundary (that is, you can be confident there is a change that matters to the business.)"
   ]
  },
  {
   "cell_type": "code",
   "execution_count": 35,
   "metadata": {
    "scrolled": true
   },
   "outputs": [
    {
     "name": "stdout",
     "output_type": "stream",
     "text": [
      "Confidence Interval for Gross Conversion: [-0.0291,-0.012]\n",
      "Observed:  -0.0206\n",
      "Statistically significant: True ,  CI doesn't include 0\n",
      "Practically significant: True ,  CI doesn't include d_min or -d_min\n"
     ]
    }
   ],
   "source": [
    "\"\"\"Gross Conversion\"\"\"\n",
    "d_min = 0.01\n",
    "n = len(enrolls_exp)\n",
    "sum_enroll_cont =  sum(enrolls_cont)\n",
    "sum_enroll_exp = sum(enrolls_exp)\n",
    "sum_click_cont=sum(clicks_cont[:n])\n",
    "sum_click_exp=sum(clicks_exp[:n])\n",
    "\n",
    "G_Conversion_cont = sum_enroll_cont/sum_click_cont\n",
    "G_Conversion_exp = sum_enroll_exp/sum_click_exp\n",
    "\n",
    "G_Conversion_pool = (sum_enroll_cont + sum_enroll_exp)/(sum_click_cont+sum_click_exp)\n",
    "SE_G_Conversion = math.sqrt(G_Conversion_pool *(1 - G_Conversion_pool)*(1/sum_click_cont+1/sum_click_exp))\n",
    "d_hat = G_Conversion_exp - G_Conversion_cont\n",
    "\n",
    "m = 1.96*SE_G_Conversion\n",
    "ci_min,ci_max=d_hat-m,d_hat+m\n",
    "print(\"Confidence Interval for Gross Conversion: [{},{}]\".format(round(ci_min,4),round(ci_max,4)))\n",
    "print(\"Observed: \",round(d_hat,4))\n",
    "print (\"Statistically significant:\", d_hat>m or d_hat<-m ,\",  CI doesn't include 0\")\n",
    "print(\"Practically significant:\",ci_max< -d_min or d_min<ci_min,\",  CI doesn't include d_min or -d_min\")"
   ]
  },
  {
   "cell_type": "code",
   "execution_count": 31,
   "metadata": {},
   "outputs": [
    {
     "name": "stdout",
     "output_type": "stream",
     "text": [
      "Confidence Interval:[0.0081,0.0541]\n",
      "Observed: 0.0311\n",
      "Statistically significant: True ,  CI doesn't include 0\n",
      "Practically significant: False ,  CI doesn't include d_min or -d_min\n"
     ]
    }
   ],
   "source": [
    "\"\"\"retention\"\"\"\n",
    "n=len(payment_exp)\n",
    "d_min=0.01\n",
    "sum_payment_cont=sum(payment_cont[:n])\n",
    "sum_payment_exp=sum(payment_exp[:n])\n",
    "sum_enroll_cont=sum(enrolls_cont[:n])\n",
    "sum_enroll_exp=sum(enrolls_exp[:n])\n",
    "p_pool=(sum_payment_cont+sum_payment_exp)/(sum_enroll_cont+sum_enroll_exp)\n",
    "SE_pool=math.sqrt(p_pool*(1-p_pool)*(1/sum_enroll_cont+1/sum_enroll_exp))\n",
    "m=SE_pool*1.96\n",
    "d_hat=sum_payment_exp/sum_enroll_exp-sum_payment_cont/sum_enroll_cont\n",
    "ci_min,ci_max=d_hat-m,d_hat+m\n",
    "print(\"Confidence Interval:[{},{}]\".format(round(ci_min,4),round(ci_max,4)))\n",
    "print(\"Observed:\",round(d_hat,4))\n",
    "print (\"Statistically significant:\", d_hat+m<0 or d_hat-m>0 ,\",  CI doesn't include 0\")\n",
    "print(\"Practically significant:\",d_min<ci_min or d_min>ci_max,\",  CI doesn't include d_min or -d_min\")"
   ]
  },
  {
   "cell_type": "code",
   "execution_count": 36,
   "metadata": {},
   "outputs": [
    {
     "name": "stdout",
     "output_type": "stream",
     "text": [
      "Confidence Interval:[-0.0116,0.0019]\n",
      "Observed: -0.0049\n",
      "Statistically significant: False ,  CI include 0\n",
      "Practically significant: False ,  CI doesn't include d_min or -d_min\n"
     ]
    }
   ],
   "source": [
    "\"\"\"net conversion\"\"\"\n",
    "n=len(enrolls_exp)\n",
    "d_min=0.0075\n",
    "sum_clicks_cont=sum(clicks_cont[:n])\n",
    "sum_clicks_exp=sum(clicks_exp[:n])\n",
    "sum_payment_cont=sum(payment_cont[:n])\n",
    "sum_payment_exp=sum(payment_exp[:n])\n",
    "p_pool=(sum_payment_exp+sum_payment_cont)/(sum_clicks_exp+sum_clicks_cont)\n",
    "SE_pool=math.sqrt(p_pool*(1-p_pool)*(1/sum_clicks_cont+1/sum_clicks_exp))\n",
    "m=SE_pool*1.96\n",
    "d_hat=sum_payment_exp/sum_clicks_exp-sum_payment_cont/sum_clicks_cont\n",
    "ci_min,ci_max=d_hat-m,d_hat+m\n",
    "\n",
    "print(\"Confidence Interval:[{},{}]\".format(round(ci_min,4),round(ci_max,4)))\n",
    "print(\"Observed:\",round(d_hat,4))\n",
    "print (\"Statistically significant:\", d_hat+m<0 or d_hat-m>0 ,\",  CI include 0\")\n",
    "print(\"Practically significant:\",ci_max< -d_min or d_min<ci_min,\",  \")"
   ]
  },
  {
   "cell_type": "markdown",
   "metadata": {},
   "source": [
    "## Sign Test\n",
    "Run a sign test on each evaluation metric using the day-by-day data"
   ]
  },
  {
   "cell_type": "code",
   "execution_count": 37,
   "metadata": {},
   "outputs": [
    {
     "name": "stdout",
     "output_type": "stream",
     "text": [
      "p-value: 0.0025994777679443364 , Statistically Significant: True\n"
     ]
    }
   ],
   "source": [
    "from scipy.stats import binom_test \n",
    "\"\"\"gross conversion\"\"\"\n",
    "alpha=0.05\n",
    "beta=0.2\n",
    "\n",
    "gc_exp=[i/j for i,j in zip(enrolls_exp,clicks_exp)]\n",
    "gc_cont=[i/j for i,j in zip(enrolls_cont,clicks_cont)]\n",
    "gc_diff=sum([i>j for i,j in zip(gc_exp,gc_cont)])\n",
    "days=len(gc_exp)\n",
    "\n",
    "# The prob of gross conversion of experiment group > gross conversion of control group is 0.5\n",
    "p_value=binom_test(gc_diff, n=days, p=0.5)\n",
    "print(\"p-value:\",p_value,\", Statistically Significant:\",p_value<alpha)"
   ]
  },
  {
   "cell_type": "code",
   "execution_count": 38,
   "metadata": {},
   "outputs": [
    {
     "name": "stdout",
     "output_type": "stream",
     "text": [
      "p-value: 0.6776394844055175 , Statistically Significant: False\n"
     ]
    }
   ],
   "source": [
    "\"\"\"retention\"\"\"\n",
    "rt_exp=[i/j for i,j in zip(payment_exp,enrolls_exp)]\n",
    "rt_cont=[i/j for i,j in zip(payment_cont,enrolls_cont)]\n",
    "rt_diff=sum([i>j for i,j in zip(rt_exp,rt_cont)])\n",
    "days=len(rt_exp)\n",
    "p_value=binom_test(rt_diff, n=days, p=0.5)\n",
    "print(\"p-value:\",p_value,\", Statistically Significant:\",p_value<alpha)\n"
   ]
  },
  {
   "cell_type": "code",
   "execution_count": 39,
   "metadata": {},
   "outputs": [
    {
     "name": "stdout",
     "output_type": "stream",
     "text": [
      "p-value: 0.6776394844055175 , Statistically Significant: False\n"
     ]
    }
   ],
   "source": [
    "\"\"\"net conversion\"\"\"\n",
    "nc_exp=[i/j for i,j in zip(payment_exp,clicks_exp)]\n",
    "nc_cont=[i/j for i,j in zip(payment_cont,clicks_cont)]\n",
    "nc_diff=sum([i>j for i,j in zip(nc_exp,nc_cont)])\n",
    "days=len(nc_exp)\n",
    "p_value=binom_test(nc_diff, n=days, p=0.5)\n",
    "print(\"p-value:\",p_value,\", Statistically Significant:\",p_value<alpha)"
   ]
  },
  {
   "cell_type": "markdown",
   "metadata": {},
   "source": [
    "# Summary\n",
    "An experiment was conducted in which potential Udacity students were diverted by cookie into two groups, experiment and control. The experiment group was asked to input the amount of time they are willing to devote to study, after clicking a \"start free trial button\", whereas the control group was not. Three invariant metrics (Number of Cookies, Number of clicks on \"start free trial\", and Click-Through-Probability) were chosen for purposes of validation and sanity checking while Gross Conversion (enrollment/cookie) and Net Conversion (payments/cookie) served as evaluation metrics. The null hypothesis is that there is no difference in the evaluation metrics between the groups, futhermore, a practical signifcance threshold was set for each metric. The requirement for launching the experiment is that the null hypothesis must be rejected for ALL evaluation metrics and that the difference between branches must meet or exceed the practical signficance threshold. Because our acceptance criteria requires statiscally signifcant differences for ALL evaluation metrics, the use of the Bonferonni correction is not appropriate. The Bonferonni correction is a method for controlling for type I errors (false positives) when using multiple metrics in which relevance of ANY of the metrics matches the hypothesis. In this case the risk of type I errors increases as the number of metrics increases (signifcance by random chance). In our case in which ALL metrics must be relevant to launch, the risk of type II errors (false negatives) increases as the number of metrics increases, so it stands to reason that controlling for false positives is not consistent with our acceptance criteria.\n",
    "\n",
    "Analysis revealed the expected equal distribution of cookies into the control and experimental groups, for the invariant metrics, at the 95% CI. A difference in gross conversion was found to be statistically signficant at the 95% CI, and the null hypothesis was rejected. Gross conversion also met the practical signficance threshold. Net Conversion was found to be neither statistically nor practically signficant at the 95% CI.\n",
    "\n",
    "# Recommendation\n",
    "This experiment was designed to determine whether filtering students as a function of study time commitment would improve the overall student experience and the coaches' capacity to support students who are likely to complete the course, without significantly reducing the number of students who continue past the free trial. A statistically and practically signficant decrease in Gross Conversion was observed but with no significant differences in Net Conversion. This translates to a decrease in enrollment not coupled to an increase in students staying for the requisite 14 days to trigger payment. Considering this, my recomendation is not to launch, but rather to pursue other experiments.\n",
    "\n"
   ]
  },
  {
   "cell_type": "code",
   "execution_count": null,
   "metadata": {},
   "outputs": [],
   "source": []
  }
 ],
 "metadata": {
  "kernelspec": {
   "display_name": "Python 3",
   "language": "python",
   "name": "python3"
  },
  "language_info": {
   "codemirror_mode": {
    "name": "ipython",
    "version": 3
   },
   "file_extension": ".py",
   "mimetype": "text/x-python",
   "name": "python",
   "nbconvert_exporter": "python",
   "pygments_lexer": "ipython3",
   "version": "3.8.3"
  }
 },
 "nbformat": 4,
 "nbformat_minor": 4
}
